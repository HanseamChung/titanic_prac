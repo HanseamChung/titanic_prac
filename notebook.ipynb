{
  "cells": [
    {
      "metadata": {
        "_kg_hide-input": true,
        "_kg_hide-output": true,
        "collapsed": true,
        "_cell_guid": "b1076dfc-b9ad-4769-8c92-a6c4dae69d19",
        "_uuid": "8f2839f25d086af736a60e9eeb907d3b93b6e0e5"
      },
      "cell_type": "markdown",
      "source": "\n\n"
    },
    {
      "metadata": {
        "_cell_guid": "a354e5e2-908e-4cea-aae2-d8815e0ccbf8",
        "_uuid": "19882feb26091064d474f2ededd1d02cfb9724c8"
      },
      "cell_type": "markdown",
      "source": ""
    },
    {
      "metadata": {
        "_kg_hide-input": true,
        "_kg_hide-output": true,
        "collapsed": true,
        "_cell_guid": "0d36999b-c945-46f2-a95e-08629e9fb4ff",
        "_uuid": "e02521156c07006e76ba05a0a594291fc5574dc0",
        "trusted": false
      },
      "cell_type": "code",
      "source": "#데이터 분석 라이브러리\nimport numpy as np\nimport pandas as pd\n\n#라이브라리의 시각화\nimport matplotlib.pyplot as plt\nimport seaborn as sns\n%matplotlib inline\n\n#경고 무시\nimport warnings\nwarnings. filterwarnings('ignore')\n\n",
      "execution_count": null,
      "outputs": []
    },
    {
      "metadata": {
        "scrolled": true,
        "_cell_guid": "6059b321-2b06-4046-b5f5-9f74713175f0",
        "_uuid": "8c93d333d50240c5a04dda887b016650e9727f26",
        "trusted": false,
        "collapsed": true
      },
      "cell_type": "code",
      "source": "#train과 test CSV파일 불러오기\ntrain = pd.read_csv('../input/train.csv')\ntest = pd.read_csv('../input/test.csv')\n\n#train데이터 읽어보기\ntrain.describe(include='all')",
      "execution_count": null,
      "outputs": []
    },
    {
      "metadata": {
        "_cell_guid": "b5048407-3270-4097-aafb-bf5a457ef8e6",
        "_uuid": "34b46d54dd1e81e6ed2b8585df946f16354e6877",
        "trusted": false,
        "collapsed": true
      },
      "cell_type": "code",
      "source": "#데이터베이스안에 잇는 요소들을 추출\nprint(train.columns)",
      "execution_count": null,
      "outputs": []
    },
    {
      "metadata": {
        "_cell_guid": "1afd49ef-ddf7-4356-89ac-a6a3a69e9ab3",
        "_uuid": "b9658c59e0dc5b7273e2387e849256d56c1e5456",
        "trusted": false,
        "collapsed": true
      },
      "cell_type": "code",
      "source": "#변수에 대한 아이디어를 얻기 위해 데이터베이스의 샘플을 보기\ntrain.sample(5)\n'''\n상수 요소 : Age(연속), Fare(연속), SibSp(분산), Parch(분산)\n카테고리 요소 : Survived, Sex, Embarked, Pclass\n문자열 요소 : Ticket, Cabin\n데이터베이스 타입\nSurvived: int\nPclass: int\nName: string\nSex: string\nAge: float\nSibSp: int\nParch: int\nTicket: string\nFare: float\nCabin: string\nEmbarked: string\n'''\n",
      "execution_count": null,
      "outputs": []
    },
    {
      "metadata": {
        "_cell_guid": "368f99ac-07ad-476b-830f-cbef74c6c160",
        "_uuid": "d0040be1f4861bbf6ee6ce9d890d03b88ef42d82",
        "trusted": false,
        "collapsed": true
      },
      "cell_type": "code",
      "source": "#training 데이터베이스의 요약본 보기\ntrain.describe(include= 'all')\n'''\n관찰결과\ntraining에는 총 891명의 승객이 있음\n나이 요소는 19.8%가 없다. 나이는 중요한 요소라서 우리는 이 차이를 매꿔야한다.\nCabin 요소는 77.1%가 손실되었다. 손실량이 너무 많아 채우기가 힘들다. 우리는 이 요소를 버려야 할 것이다.\nEmbarked 요소는 0.22%가 손실되어다. 이것은 무해할 것이다.\n\n'''",
      "execution_count": null,
      "outputs": []
    },
    {
      "metadata": {
        "_cell_guid": "5a9ec81a-9c80-425d-adb5-7173a26b788d",
        "_uuid": "ef1769021b2e92717866899002e2c755442c06f5",
        "trusted": false,
        "collapsed": true
      },
      "cell_type": "code",
      "source": "# 어떤 사용불가능한 요소가 있나 체크하기\nprint(pd.isnull(train).sum())\n'''\n예측\nSex: 여성은 생존할 가능성이 높을 것이다.\nSibSp/Parch : 혼자여행하는 사람들은 생존할 가능성이 높을 것이다.\nAge : 어린애들은 생존할 가능성이 높다.\nPclass : 높은 클래스에 있는 사람은 생존할 가능성이 더 높다.\n'''",
      "execution_count": null,
      "outputs": []
    },
    {
      "metadata": {
        "scrolled": true,
        "_cell_guid": "66b2dae5-133b-415c-97cb-17aabf24aa12",
        "_uuid": "1eb3af9b3ccb1c07fe0e6247fe089f5ec159d62d",
        "trusted": false,
        "collapsed": true
      },
      "cell_type": "code",
      "source": "###4) 데이터분석\n##Sex 요소\n#sex에 의해 생존한 막대그래프 그리기\nsns.barplot(x='Sex', y='Survived', data= train)\n\n#남성과 여성의 생존의 퍼센트를 print\nprint('여성의 생존 비율:', train[\"Survived\"][train['Sex'] == 'female']\n      .value_counts(normalize=True)[1]*100)\nprint('남성의 생존 비율:', train[\"Survived\"][train['Sex'] == 'male']\n      .value_counts(normalize=True)[1]*100)\n'''\n예상대로 여성이 살아남은 비율이 더 높았다\n'''",
      "execution_count": null,
      "outputs": []
    },
    {
      "metadata": {
        "_cell_guid": "10015709-1cd5-4acc-9556-5993a16ae205",
        "_uuid": "be549e2f691391cbc8cf790769ea7cbdd4ce0ee5",
        "trusted": false,
        "collapsed": true
      },
      "cell_type": "code",
      "source": "#Pclass에 따른 생존 막대크래프로 그리기\nsns.barplot(x=\"Pclass\", y=\"Survived\", data=train)\n\n#Pclass에서 살아남은 퍼센트 print\nprint('Pclass=1일때 살아남은 비율:',train[\"Survived\"][train[\"Pclass\"] == 1]\n      .value_counts(normalize = True)[1]*100)\n\n\nprint('Pclass=2일때 살아남은 비율',train['Survived'][train['Pclass']==2]\n     .value_counts(normalize= True)[1]*100)\n\nprint('Pclass=3일때 살아남은 비율',train['Survived'][train['Pclass']==3]\n     .value_counts(normalize= True)[1]*100)\n\n'''\n예상대로 사회경제적 지위가 높은 사람이 생존률이 더 높았다\n'''",
      "execution_count": null,
      "outputs": []
    },
    {
      "metadata": {
        "_cell_guid": "22b093dd-38f6-4871-bcb3-af0852fa0454",
        "_uuid": "0e80f7353b316c8dc88bf90969826437ede2fe6b",
        "trusted": false,
        "collapsed": true
      },
      "cell_type": "code",
      "source": "# SibSp 와 생존률 그래프 그리기\nsns.barplot(x='SibSp', y='Survived', data= train)\n\n#모든 요소를 출력하지는 않을게\nprint('SibSp=0 일때 생존률 :', train['Survived'][train['SibSp'] ==0]\n     .value_counts(normalize= True)[1]*100)\n\nprint('SibSp=1 일때 생존률 :', train['Survived'][train['SibSp'] ==1]\n     .value_counts(normalize= True)[1]*100)\n\nprint('SibSp=2 일때 생존률 :', train['Survived'][train['SibSp'] ==2]\n     .value_counts(normalize= True)[1]*100)\n\n'''\n일반적으로 형제자매나 배우자와 승선한 사람은 생존할 가능성이 낮았다.\n하지만 기대와는 다르게 동슨자가 없는 사람은 1~2명과 함께 탄사람보다\n생존률이 낮았다\n'''",
      "execution_count": null,
      "outputs": []
    },
    {
      "metadata": {
        "_cell_guid": "178eb768-0fea-433c-bc69-382ad998ee1d",
        "_uuid": "b38aeb2a9ccd9d99fb8f8c246bba76e19940c0b4",
        "trusted": false,
        "collapsed": true
      },
      "cell_type": "code",
      "source": "#Parch와 생존간의 바플롯 그리기\nsns.barplot(x=\"Parch\", y=\"Survived\", data=train)\nplt.show()\n'''\n4명보다 적은 부모나 아이가 해외에 있는 사람들은 4명 보다 많은 사람들은 보다\n생존할 확률이 더 높았다. 또 혼자 여행한 사람들은 1-3명의 가족과 여행한 사람들보다\n생존할 가능성이 낮았다\n'''",
      "execution_count": null,
      "outputs": []
    },
    {
      "metadata": {
        "scrolled": false,
        "_cell_guid": "48e9f09c-8c65-4be3-8551-ca7734b789c4",
        "_uuid": "aa243e5b58b9368bf01f4a8fbb35b3dcfa19c8c3",
        "trusted": false,
        "collapsed": true
      },
      "cell_type": "code",
      "source": "#나이를 논리적 카테고리고 분류하기\ntrain['Age'] = train['Age'].fillna(-0.5)\ntest['Age'] = test['Age'].fillna(-0.5)\nbins = [-1, 0, 5, 12, 18, 24, 35, 60, np.inf]\nlabels = ['Unknown', 'Baby', 'Child', 'Teenager', 'Student', 'Young Adult', 'Adult',\n          'Senior']\ntrain['AgeGroup'] = pd.cut(train['Age'], bins, labels= labels)\ntest['AgeGroup'] = pd.cut(test['Age'], bins, labels= labels)\n\n# Age와 생존의 바플롯 그리기\nsns.barplot(x=\"AgeGroup\", y=\"Survived\", data=train)\nplt.show()",
      "execution_count": null,
      "outputs": []
    },
    {
      "metadata": {
        "_cell_guid": "99259d60-2d70-4f02-9fac-50ec06fee6bf",
        "_uuid": "58b18c4607924f8a00f04aa47df88822ae2d61ab",
        "trusted": false,
        "collapsed": true
      },
      "cell_type": "code",
      "source": "#Cabin 요소 -높으면 사회경제적 지표가 높은것\ntrain[\"CabinBool\"] = (train[\"Cabin\"].notnull().astype('int'))\ntest[\"CabinBool\"] = (test[\"Cabin\"].notnull().astype('int'))\n\n#CabinBool과 생존률의 퍼센트\nprint(\"CabinBool의 비율이 = 1 살아남은 사람 :\", \n      train[\"Survived\"][train[\"CabinBool\"] == 1].value_counts(normalize = True)[1]*100)\n\nprint(\"CabinBool의 비율이 = 0 살아남은사람:\", \n      train[\"Survived\"][train[\"CabinBool\"] == 0].value_counts(normalize = True)[1]*100)\n#막대그래프 그리기\nsns.barplot(x=\"CabinBool\", y=\"Survived\", data=train)\nplt.show()",
      "execution_count": null,
      "outputs": []
    },
    {
      "metadata": {
        "_cell_guid": "cbaa742b-9870-4ecd-84e2-a54aeb677bec",
        "_uuid": "842b0b22923ba2ea397c4dbccc557d8cb519f754",
        "trusted": false,
        "collapsed": true
      },
      "cell_type": "code",
      "source": "##데이터 정제하기\n\ntest.describe(include='all')\n\n## 20.5%의 Age가 유실되었음. 채워야함.\n#Fare에서 1개가 유실됨",
      "execution_count": null,
      "outputs": []
    },
    {
      "metadata": {
        "_cell_guid": "4cda3f62-7a16-4732-8d78-3abe26ba03d4",
        "_uuid": "80384c278fd8a8014a97b661d8838aaf97d3125e",
        "trusted": false,
        "collapsed": true
      },
      "cell_type": "code",
      "source": "#정보가 추출될 수 있으므로 Cabin 요소부터 함\ntrain = train.drop(['Cabin'], axis = 1)\ntest = test.drop(['Cabin'], axis = 1)",
      "execution_count": null,
      "outputs": []
    },
    {
      "metadata": {
        "collapsed": true,
        "_cell_guid": "934c7688-58d5-4410-bda3-c5fe91553d58",
        "_uuid": "29020c3e400ae16ac30402e22d593c76cf45294b",
        "trusted": false
      },
      "cell_type": "code",
      "source": "#Ticket 요소도 쓸모없을것같다\ntrain = train.drop(['Ticket'], axis = 1)\ntest = test.drop(['Ticket'], axis = 1)",
      "execution_count": null,
      "outputs": []
    },
    {
      "metadata": {
        "_cell_guid": "d36d8921-63e7-42db-b7b5-37478f8e7eb0",
        "_uuid": "c77800242c052fecdd5098d652b437062dd9e0d0",
        "trusted": false,
        "collapsed": true
      },
      "cell_type": "code",
      "source": "#이제 Embarked의 유실값을 채워야한다.\nprint(\" Southampton에 Embarking중인 사람의 수 (S):\")\nsouthampton = train[train[\"Embarked\"] == \"S\"].shape[0]\nprint(southampton)\n\nprint(\"Cherbourg에 Embarking중인 사람의 수 (C):\")\ncherbourg = train[train[\"Embarked\"] == \"C\"].shape[0]\nprint(cherbourg)\n\nprint(\"Queenstown에 Embarking중인 사람의 수 (Q):\")\nqueenstown = train[train[\"Embarked\"] == \"Q\"].shape[0]\nprint(queenstown)",
      "execution_count": null,
      "outputs": []
    },
    {
      "metadata": {
        "collapsed": true,
        "_cell_guid": "004b4c9c-59c5-44db-b047-c544a119a029",
        "_uuid": "53e4d86b13ede65708e4f61073bf6b754511e2e1",
        "trusted": false
      },
      "cell_type": "code",
      "source": "#(S)에 탑승하는 사람이 대다수이다. S의 값을 채우자\n#없는 값은 S의 값으로 대체\ntrain = train.fillna({\"Embarked\": \"S\"})",
      "execution_count": null,
      "outputs": []
    },
    {
      "metadata": {
        "_cell_guid": "58005634-c699-48b5-8d26-12d0435cc462",
        "_uuid": "1129afb397a42c158374ba93b272a3ab50144d97",
        "trusted": false,
        "collapsed": true
      },
      "cell_type": "code",
      "source": "#두 db를 합치기\ncombine = [train, test]\n# 각각의 이름값을 추출하기\nfor dataset in combine :\n    dataset['Title'] = dataset.Name.str.extract('([A-Za-z]+)\\.', expand=False)\n    \npd.crosstab(train['Title'], train['Sex'])",
      "execution_count": null,
      "outputs": []
    },
    {
      "metadata": {
        "_cell_guid": "b876c496-8cf7-4cf9-a219-1db6c9a66bd3",
        "_uuid": "89ba9792cc247bda8fab45a114d1b9950d68bb05",
        "trusted": false,
        "collapsed": true
      },
      "cell_type": "code",
      "source": "#타이틀을 더 일반적인 이름으로 바꾼다.\nfor dataset in combine:\n    dataset['Title'] = dataset['Title'].replace(['Lady', 'Capt', 'Col',\n    'Don', 'Dr', 'Major', 'Rev', 'Jonkheer', 'Dona'], 'Rare')\n    \n    dataset['Title'] = dataset['Title'].replace(['Countess', 'Lady', 'Sir'], 'Royal')\n    dataset['Title'] = dataset['Title'].replace('Mlle', 'Miss')\n    dataset['Title'] = dataset['Title'].replace('Ms', 'Miss')\n    dataset['Title'] = dataset['Title'].replace('Mme', 'Mrs')\n\ntrain[['Title', 'Survived']].groupby(['Title'], as_index=False).mean()",
      "execution_count": null,
      "outputs": []
    },
    {
      "metadata": {
        "_cell_guid": "8352ceac-0d76-41ed-898d-9dc7a8fd866a",
        "_uuid": "cfc75cd787f04454a49e5036164e6df3495f67a2",
        "trusted": false,
        "collapsed": true
      },
      "cell_type": "code",
      "source": "#각각의 타이틀을 숫자로 바꾼다\ntitle_mapping = {\"Mr\": 1, \"Miss\": 2, \"Mrs\": 3, \"Master\": 4, \"Royal\": 5, \"Rare\": 6}\nfor dataset in combine:\n    dataset['Title'] = dataset['Title'].map(title_mapping)\n    dataset['Title'] = dataset['Title'].fillna(0)\n\ntrain.head()",
      "execution_count": null,
      "outputs": []
    },
    {
      "metadata": {
        "_cell_guid": "fb9075bb-14eb-4fe0-8057-39219aa7c964",
        "_uuid": "199c6c25513db8f7112e7f536113449ae4f59647",
        "trusted": false,
        "collapsed": true
      },
      "cell_type": "code",
      "source": "#유실된 나이를 나이그룹타이틀로 채우기\nmr_age = train[train[\"Title\"] == 1][\"AgeGroup\"].mode() #Young Adult\nmiss_age = train[train[\"Title\"] == 2][\"AgeGroup\"].mode() #Student\nmrs_age = train[train[\"Title\"] == 3][\"AgeGroup\"].mode() #Adult\nmaster_age = train[train[\"Title\"] == 4][\"AgeGroup\"].mode() #Baby\nroyal_age = train[train[\"Title\"] == 5][\"AgeGroup\"].mode() #Adult\nrare_age = train[train[\"Title\"] == 6][\"AgeGroup\"].mode() #Adult\n\nage_title_mapping = {1: \"Young Adult\", 2: \"Student\", 3: \"Adult\", 4: \"Baby\",\n                     5: \"Adult\", 6: \"Adult\"}\n\nfor i in range(len(train[\"AgeGroup\"])):\n    if train[\"AgeGroup\"][i] == \"Unknown\":\n        train[\"AgeGroup\"][i] = age_title_mapping[train[\"Title\"][i]]\n        \nfor x in range(len(test[\"AgeGroup\"])):\n    if test[\"AgeGroup\"][x] == \"Unknown\":\n        test[\"AgeGroup\"][x] = age_title_mapping[test[\"Title\"][x]]\n        \n",
      "execution_count": null,
      "outputs": []
    },
    {
      "metadata": {
        "_cell_guid": "234fa762-6edd-4f6a-bbc5-24e62c79e78a",
        "_uuid": "0e648cfa8d691e537018c9fc60dd4cbb40c7bd35",
        "trusted": false,
        "collapsed": true
      },
      "cell_type": "code",
      "source": "#각각의 Age값을 숫자로 바꾼다 @@@@@@@@@@@@@@map기능\nage_mapping = {'Baby': 1, 'Child': 2, 'Teenager': 3, 'Student': 4, 'Young Adult': 5, 'Adult': 6, 'Senior': 7}\ntrain['AgeGroup'] = train['AgeGroup'].map(age_mapping)\ntest['AgeGroup'] = test['AgeGroup'].map(age_mapping)\n\ntrain.head()\n\n#Age 요소를 제거한다.\ntrain = train.drop(['Age'], axis = 1)\ntest = test.drop(['Age'], axis = 1)",
      "execution_count": null,
      "outputs": []
    },
    {
      "metadata": {
        "collapsed": true,
        "_cell_guid": "84c97df3-9512-4637-b3cf-ebd0fe9395ee",
        "_uuid": "8630c58150f969a7e14586d574afc06b871202e3",
        "trusted": false
      },
      "cell_type": "code",
      "source": "#name 요소를 제거한다\ntrain = train.drop(['Name'], axis = 1)\ntest = test.drop(['Name'], axis = 1)",
      "execution_count": null,
      "outputs": []
    },
    {
      "metadata": {
        "collapsed": true,
        "_cell_guid": "8dd72a17-c614-4202-9bb7-415885882ed0",
        "_uuid": "919226bed555df3871d7aed4cb52a4ff8a1f0bc3",
        "trusted": false
      },
      "cell_type": "code",
      "source": "#Sex 값을 숫자로 바꾼다\nsex_mapping = {\"male\": 0, \"female\": 1}\ntrain['Sex'] = train['Sex'].map(sex_mapping)\ntest['Sex'] = test['Sex'].map(sex_mapping)\n",
      "execution_count": null,
      "outputs": []
    },
    {
      "metadata": {
        "_cell_guid": "323fbd37-bcca-4956-b5f5-146adfaa15d1",
        "_uuid": "c6a17f7bd5faa9dc6becff34ee27b67c29e7082f",
        "trusted": false,
        "collapsed": true
      },
      "cell_type": "code",
      "source": "#Embarked 값을 숫자로 바꾼다. \nembarked_mapping = {\"S\": 1, \"C\": 2, \"Q\": 3}\ntrain['Embarked'] = train['Embarked'].map(embarked_mapping)\ntest['Embarked'] = test['Embarked'].map(embarked_mapping)\n\ntrain.head()",
      "execution_count": null,
      "outputs": []
    },
    {
      "metadata": {
        "collapsed": true,
        "_cell_guid": "3a82e54c-63d4-4020-b5d5-ef220f6ce175",
        "_uuid": "04e0680e3c666df7dc12e11ace3359589e75bec9",
        "trusted": false
      },
      "cell_type": "code",
      "source": "#test 에서 Fare의 유실값을 Pclass에 기반을 둔다\nfor i in range(len(test[\"Fare\"])):\n    if pd.isnull(test[\"Fare\"][i]):\n        pclass = test[\"Pclass\"][i] #Pclass = 3\n        test[\"Fare\"][i] = round(train[train[\"Pclass\"] == pclass][\"Fare\"].mean(), 4)\n        \n#Fare값을 숫자화한다 @@@@@@@@@@@@@@@@@qcut기능\ntrain['FareBand'] = pd.qcut(train['Fare'], 4, labels = [1, 2, 3, 4])\ntest['FareBand'] = pd.qcut(test['Fare'], 4, labels = [1, 2, 3, 4])\n\n#drop Fare values\ntrain = train.drop(['Fare'], axis = 1)\ntest = test.drop(['Fare'], axis = 1)",
      "execution_count": null,
      "outputs": []
    },
    {
      "metadata": {
        "_cell_guid": "b4e49260-a811-4ff9-8ffc-b52f932e4f24",
        "_uuid": "f44aa6022f57b333f513d386545d00dbd1258f27",
        "trusted": false,
        "collapsed": true
      },
      "cell_type": "code",
      "source": "#데이터 체크\ntrain.head()",
      "execution_count": null,
      "outputs": []
    },
    {
      "metadata": {
        "_cell_guid": "d82c67df-f80a-4f00-88f8-0da5daabd0e8",
        "_uuid": "720422edfcb37ac28e3ae3af4a6e96f8e0fe4190",
        "trusted": false,
        "collapsed": true
      },
      "cell_type": "code",
      "source": "#teset데이터 체크\ntest.head()",
      "execution_count": null,
      "outputs": []
    },
    {
      "metadata": {
        "_cell_guid": "084aca99-b86a-4de7-90ea-b1b5e5ed7cce",
        "_uuid": "f053bb37f2cdc3773396e96462b334ef535141fd"
      },
      "cell_type": "markdown",
      "source": "최고의 모델 찾기\n\n트레이닝 데이터를 분리하기\n우리의 다른 모델로 분리할 것이다."
    },
    {
      "metadata": {
        "_cell_guid": "776ababc-df14-495e-ae3a-eaf6231a2e97",
        "_uuid": "cdd7459e13a6f083cd2ac4841a9bf4d3b7b49a1d",
        "trusted": false,
        "collapsed": true
      },
      "cell_type": "code",
      "source": "from sklearn.model_selection import train_test_split\n\npredictors = train.drop(['Survived', 'PassengerId'], axis=1)\ntarget = train[\"Survived\"]\nx_train, x_val, y_train, y_val = train_test_split(predictors, target, test_size = 0.22, random_state = 0)",
      "execution_count": null,
      "outputs": []
    },
    {
      "metadata": {
        "collapsed": true,
        "_cell_guid": "cdc7472b-a6c8-4512-b254-b8111a1dc471",
        "_uuid": "a7f16204066b91d16d12185204dc17a93e0ef1a7",
        "trusted": false
      },
      "cell_type": "code",
      "source": "",
      "execution_count": null,
      "outputs": []
    },
    {
      "metadata": {
        "collapsed": true,
        "_cell_guid": "79c7e3d0-c299-4dcb-8224-4455121ee9b0",
        "_uuid": "d629ff2d2480ee46fbb7e2d37f6b5fab8052498a"
      },
      "cell_type": "markdown",
      "source": "#Create a copy of test : test_one\ntest"
    }
  ],
  "metadata": {
    "language_info": {
      "pygments_lexer": "ipython3",
      "name": "python",
      "version": "3.6.4",
      "file_extension": ".py",
      "nbconvert_exporter": "python",
      "mimetype": "text/x-python",
      "codemirror_mode": {
        "version": 3,
        "name": "ipython"
      }
    },
    "kernelspec": {
      "display_name": "Python 3",
      "language": "python",
      "name": "python3"
    }
  },
  "nbformat": 4,
  "nbformat_minor": 1
}